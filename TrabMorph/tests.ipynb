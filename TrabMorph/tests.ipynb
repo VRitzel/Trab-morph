{
 "cells": [
  {
   "cell_type": "code",
   "execution_count": 1,
   "metadata": {},
   "outputs": [
    {
     "ename": "ModuleNotFoundError",
     "evalue": "No module named 'trabmorph'",
     "output_type": "error",
     "traceback": [
      "\u001b[1;31m---------------------------------------------------------------------------\u001b[0m",
      "\u001b[1;31mModuleNotFoundError\u001b[0m                       Traceback (most recent call last)",
      "\u001b[1;32mc:\\Users\\LEANDRO\\Desktop\\TrabMorph\\tests.ipynb Cell 1\u001b[0m line \u001b[0;36m3\n\u001b[0;32m      <a href='vscode-notebook-cell:/c%3A/Users/LEANDRO/Desktop/TrabMorph/tests.ipynb#W0sZmlsZQ%3D%3D?line=0'>1</a>\u001b[0m \u001b[39mimport\u001b[39;00m \u001b[39mcv2\u001b[39;00m \u001b[39mas\u001b[39;00m \u001b[39mcv\u001b[39;00m\n\u001b[0;32m      <a href='vscode-notebook-cell:/c%3A/Users/LEANDRO/Desktop/TrabMorph/tests.ipynb#W0sZmlsZQ%3D%3D?line=1'>2</a>\u001b[0m \u001b[39mimport\u001b[39;00m \u001b[39mnumpy\u001b[39;00m \u001b[39mas\u001b[39;00m \u001b[39mnp\u001b[39;00m\n\u001b[1;32m----> <a href='vscode-notebook-cell:/c%3A/Users/LEANDRO/Desktop/TrabMorph/tests.ipynb#W0sZmlsZQ%3D%3D?line=2'>3</a>\u001b[0m \u001b[39mfrom\u001b[39;00m \u001b[39mtrabmorph\u001b[39;00m \u001b[39mimport\u001b[39;00m \u001b[39mfilter\u001b[39m\n\u001b[0;32m      <a href='vscode-notebook-cell:/c%3A/Users/LEANDRO/Desktop/TrabMorph/tests.ipynb#W0sZmlsZQ%3D%3D?line=4'>5</a>\u001b[0m kernel \u001b[39m=\u001b[39m np\u001b[39m.\u001b[39marray(\n\u001b[0;32m      <a href='vscode-notebook-cell:/c%3A/Users/LEANDRO/Desktop/TrabMorph/tests.ipynb#W0sZmlsZQ%3D%3D?line=5'>6</a>\u001b[0m     [[\u001b[39m1\u001b[39m,\u001b[39m1\u001b[39m,\u001b[39m1\u001b[39m],\n\u001b[0;32m      <a href='vscode-notebook-cell:/c%3A/Users/LEANDRO/Desktop/TrabMorph/tests.ipynb#W0sZmlsZQ%3D%3D?line=6'>7</a>\u001b[0m     [\u001b[39m1\u001b[39m,\u001b[39m1\u001b[39m,\u001b[39m1\u001b[39m],\n\u001b[0;32m      <a href='vscode-notebook-cell:/c%3A/Users/LEANDRO/Desktop/TrabMorph/tests.ipynb#W0sZmlsZQ%3D%3D?line=7'>8</a>\u001b[0m     [\u001b[39m1\u001b[39m,\u001b[39m1\u001b[39m,\u001b[39m1\u001b[39m]],\n\u001b[0;32m      <a href='vscode-notebook-cell:/c%3A/Users/LEANDRO/Desktop/TrabMorph/tests.ipynb#W0sZmlsZQ%3D%3D?line=8'>9</a>\u001b[0m     dtype\u001b[39m=\u001b[39mnp\u001b[39m.\u001b[39mfloat32\n\u001b[0;32m     <a href='vscode-notebook-cell:/c%3A/Users/LEANDRO/Desktop/TrabMorph/tests.ipynb#W0sZmlsZQ%3D%3D?line=9'>10</a>\u001b[0m ); \n\u001b[0;32m     <a href='vscode-notebook-cell:/c%3A/Users/LEANDRO/Desktop/TrabMorph/tests.ipynb#W0sZmlsZQ%3D%3D?line=11'>12</a>\u001b[0m img \u001b[39m=\u001b[39m cv\u001b[39m.\u001b[39mimread(\u001b[39m'\u001b[39m\u001b[39min.png\u001b[39m\u001b[39m'\u001b[39m, cv\u001b[39m.\u001b[39mIMREAD_GRAYSCALE)\n",
      "\u001b[1;31mModuleNotFoundError\u001b[0m: No module named 'trabmorph'"
     ]
    }
   ],
   "source": [
    "import cv2 as cv\n",
    "import numpy as np\n",
    "\n",
    "kernel = np.array(\n",
    "    [[1,1,1],\n",
    "    [1,1,1],\n",
    "    [1,1,1]],\n",
    "    dtype=np.float32\n",
    "); \n",
    "\n",
    "img = cv.imread('in.png', cv.IMREAD_GRAYSCALE)\n",
    "\n",
    "# Necessário Limializar primeiro\n",
    "out = threshold(img, 0.3)\n",
    "\n",
    "out = ip.morph('erode', out, kernel)\n",
    "\n",
    "ip.img_write('out.1.png', out)"
   ]
  },
  {
   "cell_type": "code",
   "execution_count": 2,
   "metadata": {},
   "outputs": [],
   "source": [
    "import numpy as np\n",
    "\n",
    "def morph_filter(mode:str, img:np.ndarray, kernel:np.ndarray, pad_val:float = 0):\n",
    "    if mode == \"open\":\n",
    "        result = morph_filter('erode', img, kernel, pad_val)\n",
    "        return morph_filter('dilate', result, kernel, pad_val)\n",
    "    elif mode == \"close\":\n",
    "        result = morph_filter('dilate', img, kernel, pad_val)\n",
    "        return morph_filter('erode', img, kernel, pad_val)\n",
    "    \n",
    "    off = kernel.shape[0] // 2\n",
    "    padded = np.pad(img, (off, off), 'constant', constant_values=pad_val)\n",
    "\n",
    "    h, w = padded.shape[0], padded.shape[1]\n",
    "    copy = img.copy()\n",
    "\n",
    "    slice = 0\n",
    "    pixels = []\n",
    "\n",
    "    # for row in range(kernel.shape[0] // 2, h - kernel.shape[0] // 2):\n",
    "    #     for col in range(kernel.shape[0] // 2, w - kernel.shape[0] // 2):\n",
    "    #         slice = padded[row - kernel.shape[0] // 2 : row + kernel.shape[0] // 2 + 1, col - kernel.shape[0] // 2 : col + kernel.shape[0] // 2 + 1].flatten()\n",
    "\n",
    "    for row in range(off, h - off):\n",
    "        for col in range(off, w - off):\n",
    "            slice = padded[row - off : row + off + 1, col - off : col + off + 1].flatten\n",
    "\n",
    "            for i in range(0, len(slice)):\n",
    "                for j in range(0, len(slice)):\n",
    "                    if kernel[i,j] != 0: pixels.append(slice[i,j])\n",
    "\n",
    "            count = 0\n",
    "            len(list(filter(lambda p: p > 0, pixels)))\n",
    "\n",
    "\n",
    "            if mode == 'erode':\n",
    "                n = len(pixels)\n",
    "                validation = count >= n\n",
    "            if mode == 'dilate':\n",
    "                validation = count > 0\n",
    "\n",
    "            if validation:\n",
    "                copy[row - off][col - off] = 1\n",
    "            else:\n",
    "                copy[row - off][col - off] = 0\n",
    "\n",
    "    return copy\n",
    "\n",
    "\n",
    "def threshold(img, threshold_val):\n",
    "    binary_image = (img > threshold_val).astype(int)\n",
    "    return binary_image\n",
    "\n",
    "\n"
   ]
  }
 ],
 "metadata": {
  "kernelspec": {
   "display_name": "Python 3",
   "language": "python",
   "name": "python3"
  },
  "language_info": {
   "codemirror_mode": {
    "name": "ipython",
    "version": 3
   },
   "file_extension": ".py",
   "mimetype": "text/x-python",
   "name": "python",
   "nbconvert_exporter": "python",
   "pygments_lexer": "ipython3",
   "version": "3.9.1"
  }
 },
 "nbformat": 4,
 "nbformat_minor": 2
}
