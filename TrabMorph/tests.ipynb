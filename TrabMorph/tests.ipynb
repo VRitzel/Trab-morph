{
 "cells": [
  {
   "cell_type": "code",
   "execution_count": 25,
   "metadata": {},
   "outputs": [],
   "source": [
    "import numpy as np\n",
    "\n",
    "def morph_filter(mode:str, img:np.ndarray, kernel:np.ndarray, pad_val:float = 0):\n",
    "    if mode == \"open\":\n",
    "        result = morph_filter('erode', img, kernel, pad_val)\n",
    "        return morph_filter('dilate', result, kernel, pad_val)\n",
    "    elif mode == \"close\":\n",
    "        result = morph_filter('dilate', img, kernel, pad_val)\n",
    "        return morph_filter('erode', img, kernel, pad_val)\n",
    "    \n",
    "    off = kernel.shape[0] // 2\n",
    "    padded = np.pad(img, (off, off), 'constant', constant_values=pad_val)\n",
    "    h, w = padded.shape\n",
    "    copy = img.copy()\n",
    "\n",
    "\n",
    "    # for row in range(kernel.shape[0] // 2, h - kernel.shape[0] // 2):\n",
    "    #     for col in range(kernel.shape[0] // 2, w - kernel.shape[0] // 2):\n",
    "    #         slice = padded[row - kernel.shape[0] // 2 : row + kernel.shape[0] // 2 + 1, col - kernel.shape[0] // 2 : col + kernel.shape[0] // 2 + 1].flatten()\n",
    "    for row in range(off, h - off):\n",
    "        for col in range(off, w - off):\n",
    "            slice = padded[row - off : row + off + 1, col - off : col + off + 1]\n",
    "            pixels = []\n",
    "            for i in range(0, len(slice)):\n",
    "                for j in range(0, len(slice)):\n",
    "                    if kernel[i][j] != 0: pixels.append(slice[i][j])\n",
    "\n",
    "            count = 0\n",
    "            count = len(pixels) - pixels.count(0)\n",
    "\n",
    "\n",
    "            if mode == 'erode':\n",
    "                n = len(pixels)\n",
    "                validation = count >= n\n",
    "            if mode == 'dilate':\n",
    "                validation = count > 0\n",
    "\n",
    "            if validation:\n",
    "                copy[row - off][col - off] = 255\n",
    "            else:\n",
    "                copy[row - off][col - off] = 0\n",
    "\n",
    "    return copy\n",
    "\n",
    "\n",
    "def threshold(img, val):\n",
    "    out = img.copy()\n",
    "    for i in range(0, len(img)):\n",
    "        for j in range(0, len(img[i])):\n",
    "            out[i][j] = 0xff if img[i][j] >= val else 0x00\n",
    "    return out\n",
    "\n",
    "\n"
   ]
  },
  {
   "cell_type": "code",
   "execution_count": 26,
   "metadata": {},
   "outputs": [
    {
     "name": "stdout",
     "output_type": "stream",
     "text": [
      "6709560\n",
      "3016650\n"
     ]
    },
    {
     "data": {
      "text/plain": [
       "True"
      ]
     },
     "execution_count": 26,
     "metadata": {},
     "output_type": "execute_result"
    }
   ],
   "source": [
    "import cv2 as cv2\n",
    "import numpy as np\n",
    "\n",
    "kernel = np.array(\n",
    "    [[1,1,1],\n",
    "    [1,1,1],\n",
    "    [1,1,1]],\n",
    "    dtype=np.uint8\n",
    "); \n",
    "\n",
    "img = cv2.imread('in.png', cv2.IMREAD_GRAYSCALE)\n",
    "# img = img[ :, :, 0]\n",
    "# Necessário Limializar primeiro\n",
    "out = threshold(img, 70)\n",
    "print(out.sum())\n",
    "\n",
    "out = morph_filter('erode', out, kernel)\n",
    "print(out.sum())\n",
    "\n",
    "cv2.imwrite('out.1.png', out.astype(np.uint8))"
   ]
  }
 ],
 "metadata": {
  "kernelspec": {
   "display_name": "Python 3",
   "language": "python",
   "name": "python3"
  },
  "language_info": {
   "codemirror_mode": {
    "name": "ipython",
    "version": 3
   },
   "file_extension": ".py",
   "mimetype": "text/x-python",
   "name": "python",
   "nbconvert_exporter": "python",
   "pygments_lexer": "ipython3",
   "version": "3.9.1"
  }
 },
 "nbformat": 4,
 "nbformat_minor": 2
}
